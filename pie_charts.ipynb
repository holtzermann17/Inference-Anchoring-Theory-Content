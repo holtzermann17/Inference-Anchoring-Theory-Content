{
 "cells": [
  {
   "cell_type": "code",
   "execution_count": 2,
   "metadata": {},
   "outputs": [
    {
     "data": {
      "text/html": [
       "<script>requirejs.config({paths: { 'plotly': ['https://cdn.plot.ly/plotly-latest.min']},});if(!window.Plotly) {{require(['plotly'],function(plotly) {window.Plotly=plotly;});}}</script>"
      ],
      "text/vnd.plotly.v1+html": [
       "<script>requirejs.config({paths: { 'plotly': ['https://cdn.plot.ly/plotly-latest.min']},});if(!window.Plotly) {{require(['plotly'],function(plotly) {window.Plotly=plotly;});}}</script>"
      ]
     },
     "metadata": {},
     "output_type": "display_data"
    }
   ],
   "source": [
    "# import plotly.plotly as py\n",
    "import plotly\n",
    "from plotly.offline import download_plotlyjs, init_notebook_mode, plot, iplot\n",
    "init_notebook_mode(connected=True)\n",
    "from plotly.graph_objs import Pie\n",
    "\n",
    "#plotly.offline.iplot([{\"x\": [1, 2, 3], \"y\": [3, 1, 6]}])"
   ]
  },
  {
   "cell_type": "code",
   "execution_count": null,
   "metadata": {
    "collapsed": true
   },
   "outputs": [],
   "source": []
  },
  {
   "cell_type": "code",
   "execution_count": 10,
   "metadata": {},
   "outputs": [
    {
     "data": {
      "application/vnd.plotly.v1+json": {
       "data": [
        {
         "hoverinfo": "label+percent",
         "insidetextfont": {
          "color": "white"
         },
         "labels": [
          "Agree",
          "Assert",
          "Challenge",
          "Define",
          "Judge",
          "Query",
          "Retract",
          "Suggest",
          "not",
          "wlog",
          "stronger",
          "equivalent",
          "has_property",
          "case_split",
          "instance_of",
          "beautiful",
          "easy",
          "feasible",
          "plausible",
          "useful",
          "auxiliary",
          "goal",
          "strategy",
          "structural"
         ],
         "marker": {
          "colors": [
           "#FF0000",
           "#FFFF00",
           "#00EAFF",
           "#AA00FF",
           "#FF7F00",
           "#BFFF00",
           "#0095FF",
           "#FF00AA",
           "#000000",
           "#FFD400",
           "#6AFF00",
           "#0040FF",
           "#EDB9B9",
           "#B9D7ED",
           "#E7E9B9",
           "#DCB9ED",
           "#B9EDE0",
           "#8F2323",
           "#23628F",
           "#8F6A23",
           "#6B238F",
           "#4F8F23",
           "#CCCCCC",
           "#737373"
          ],
          "line": {
           "color": "#000000",
           "width": 2
          }
         },
         "name": "Conjecture",
         "showlegend": true,
         "textfont": {
          "size": 20
         },
         "textinfo": "none",
         "type": "pie",
         "values": [
          3,
          19,
          3,
          3,
          2,
          8,
          0,
          8,
          4,
          0,
          6,
          3,
          0,
          0,
          0,
          0,
          1,
          1,
          0,
          2,
          2,
          2,
          4,
          24
         ]
        }
       ],
       "layout": {}
      },
      "text/html": [
       "<div id=\"98aa4579-e51f-4523-9a87-99f01bd29727\" style=\"height: 525px; width: 100%;\" class=\"plotly-graph-div\"></div><script type=\"text/javascript\">require([\"plotly\"], function(Plotly) { window.PLOTLYENV=window.PLOTLYENV || {};window.PLOTLYENV.BASE_URL=\"https://plot.ly\";Plotly.newPlot(\"98aa4579-e51f-4523-9a87-99f01bd29727\", [{\"type\": \"pie\", \"labels\": [\"Agree\", \"Assert\", \"Challenge\", \"Define\", \"Judge\", \"Query\", \"Retract\", \"Suggest\", \"not\", \"wlog\", \"stronger\", \"equivalent\", \"has_property\", \"case_split\", \"instance_of\", \"beautiful\", \"easy\", \"feasible\", \"plausible\", \"useful\", \"auxiliary\", \"goal\", \"strategy\", \"structural\"], \"values\": [3, 19, 3, 3, 2, 8, 0, 8, 4, 0, 6, 3, 0, 0, 0, 0, 1, 1, 0, 2, 2, 2, 4, 24], \"hoverinfo\": \"label+percent\", \"textinfo\": \"none\", \"textfont\": {\"size\": 20}, \"marker\": {\"colors\": [\"#FF0000\", \"#FFFF00\", \"#00EAFF\", \"#AA00FF\", \"#FF7F00\", \"#BFFF00\", \"#0095FF\", \"#FF00AA\", \"#000000\", \"#FFD400\", \"#6AFF00\", \"#0040FF\", \"#EDB9B9\", \"#B9D7ED\", \"#E7E9B9\", \"#DCB9ED\", \"#B9EDE0\", \"#8F2323\", \"#23628F\", \"#8F6A23\", \"#6B238F\", \"#4F8F23\", \"#CCCCCC\", \"#737373\"], \"line\": {\"color\": \"#000000\", \"width\": 2}}, \"showlegend\": true, \"name\": \"Conjecture\", \"insidetextfont\": {\"color\": \"white\"}}], {}, {\"showLink\": true, \"linkText\": \"Export to plot.ly\"})});</script>"
      ],
      "text/vnd.plotly.v1+html": [
       "<div id=\"98aa4579-e51f-4523-9a87-99f01bd29727\" style=\"height: 525px; width: 100%;\" class=\"plotly-graph-div\"></div><script type=\"text/javascript\">require([\"plotly\"], function(Plotly) { window.PLOTLYENV=window.PLOTLYENV || {};window.PLOTLYENV.BASE_URL=\"https://plot.ly\";Plotly.newPlot(\"98aa4579-e51f-4523-9a87-99f01bd29727\", [{\"type\": \"pie\", \"labels\": [\"Agree\", \"Assert\", \"Challenge\", \"Define\", \"Judge\", \"Query\", \"Retract\", \"Suggest\", \"not\", \"wlog\", \"stronger\", \"equivalent\", \"has_property\", \"case_split\", \"instance_of\", \"beautiful\", \"easy\", \"feasible\", \"plausible\", \"useful\", \"auxiliary\", \"goal\", \"strategy\", \"structural\"], \"values\": [3, 19, 3, 3, 2, 8, 0, 8, 4, 0, 6, 3, 0, 0, 0, 0, 1, 1, 0, 2, 2, 2, 4, 24], \"hoverinfo\": \"label+percent\", \"textinfo\": \"none\", \"textfont\": {\"size\": 20}, \"marker\": {\"colors\": [\"#FF0000\", \"#FFFF00\", \"#00EAFF\", \"#AA00FF\", \"#FF7F00\", \"#BFFF00\", \"#0095FF\", \"#FF00AA\", \"#000000\", \"#FFD400\", \"#6AFF00\", \"#0040FF\", \"#EDB9B9\", \"#B9D7ED\", \"#E7E9B9\", \"#DCB9ED\", \"#B9EDE0\", \"#8F2323\", \"#23628F\", \"#8F6A23\", \"#6B238F\", \"#4F8F23\", \"#CCCCCC\", \"#737373\"], \"line\": {\"color\": \"#000000\", \"width\": 2}}, \"showlegend\": true, \"name\": \"Conjecture\", \"insidetextfont\": {\"color\": \"white\"}}], {}, {\"showLink\": true, \"linkText\": \"Export to plot.ly\"})});</script>"
      ]
     },
     "metadata": {},
     "output_type": "display_data"
    }
   ],
   "source": [
    "labels = ['Agree', 'Assert', 'Challenge', 'Define', 'Judge', 'Query', 'Retract', 'Suggest',\n",
    "          'not','wlog', 'stronger', 'equivalent', 'has_property', 'case_split','instance_of',\n",
    "          'beautiful', 'easy', 'feasible', 'plausible', 'useful',\n",
    "          'auxiliary', 'goal', 'strategy', 'structural']\n",
    "colors =  ['#FF0000',\n",
    "'#FFFF00',\n",
    "'#00EAFF',\n",
    "'#AA00FF',\n",
    "'#FF7F00',\n",
    "'#BFFF00',\n",
    "'#0095FF',\n",
    "'#FF00AA',\n",
    "'#000000',           \n",
    "'#FFD400',\n",
    "'#6AFF00',\n",
    "'#0040FF',\n",
    "'#EDB9B9',\n",
    "'#B9D7ED',\n",
    "'#E7E9B9',\n",
    "'#DCB9ED',\n",
    "'#B9EDE0',\n",
    "'#8F2323',\n",
    "'#23628F',\n",
    "'#8F6A23',\n",
    "'#6B238F',\n",
    "'#4F8F23',\n",
    "'#CCCCCC',\n",
    "'#737373']\n",
    "\n",
    "values = [3, 19, 3, 3, 2, 8, 0, 8, 4, 0, 6, 3, 0, 0, 0, 0, 1, 1, 0, 2, 2, 2, 4, 24]\n",
    "\n",
    "trace = Pie(labels=labels, values=values,\n",
    "               hoverinfo='label+percent', textinfo='none', \n",
    "               textfont=dict(size=20),\n",
    "               marker=dict(colors=colors, \n",
    "                           line=dict(color='#000000', width=2)),\n",
    "               showlegend=True,\n",
    "               name=\"Conjecture\",\n",
    "               insidetextfont=dict(color=\"white\"))\n",
    "\n",
    "iplot([trace], filename='styled_pie_chart')"
   ]
  },
  {
   "cell_type": "code",
   "execution_count": 11,
   "metadata": {},
   "outputs": [
    {
     "data": {
      "application/vnd.plotly.v1+json": {
       "data": [
        {
         "hoverinfo": "label+percent",
         "insidetextfont": {
          "color": "white"
         },
         "labels": [
          "Agree",
          "Assert",
          "Challenge",
          "Define",
          "Judge",
          "Query",
          "Retract",
          "Suggest",
          "not",
          "wlog",
          "stronger",
          "equivalent",
          "has_property",
          "case_split",
          "instance_of",
          "beautiful",
          "easy",
          "feasible",
          "plausible",
          "useful",
          "auxiliary",
          "goal",
          "strategy",
          "structural"
         ],
         "marker": {
          "colors": [
           "#FF0000",
           "#FFFF00",
           "#00EAFF",
           "#AA00FF",
           "#FF7F00",
           "#BFFF00",
           "#0095FF",
           "#FF00AA",
           "#000000",
           "#FFD400",
           "#6AFF00",
           "#0040FF",
           "#EDB9B9",
           "#B9D7ED",
           "#E7E9B9",
           "#DCB9ED",
           "#B9EDE0",
           "#8F2323",
           "#23628F",
           "#8F6A23",
           "#6B238F",
           "#4F8F23",
           "#CCCCCC",
           "#737373"
          ],
          "line": {
           "color": "#000000",
           "width": 2
          }
         },
         "name": "Concept",
         "showlegend": true,
         "textfont": {
          "size": 20
         },
         "textinfo": "none",
         "type": "pie",
         "values": [
          1,
          14,
          5,
          5,
          3,
          1,
          1,
          12,
          4,
          0,
          1,
          3,
          0,
          0,
          0,
          0,
          0,
          0,
          1,
          2,
          3,
          3,
          8,
          10
         ]
        }
       ],
       "layout": {}
      },
      "text/html": [
       "<div id=\"8d070f7c-560a-409c-9ed1-b9c4f08025f8\" style=\"height: 525px; width: 100%;\" class=\"plotly-graph-div\"></div><script type=\"text/javascript\">require([\"plotly\"], function(Plotly) { window.PLOTLYENV=window.PLOTLYENV || {};window.PLOTLYENV.BASE_URL=\"https://plot.ly\";Plotly.newPlot(\"8d070f7c-560a-409c-9ed1-b9c4f08025f8\", [{\"type\": \"pie\", \"labels\": [\"Agree\", \"Assert\", \"Challenge\", \"Define\", \"Judge\", \"Query\", \"Retract\", \"Suggest\", \"not\", \"wlog\", \"stronger\", \"equivalent\", \"has_property\", \"case_split\", \"instance_of\", \"beautiful\", \"easy\", \"feasible\", \"plausible\", \"useful\", \"auxiliary\", \"goal\", \"strategy\", \"structural\"], \"values\": [1, 14, 5, 5, 3, 1, 1, 12, 4, 0, 1, 3, 0, 0, 0, 0, 0, 0, 1, 2, 3, 3, 8, 10], \"hoverinfo\": \"label+percent\", \"textinfo\": \"none\", \"textfont\": {\"size\": 20}, \"marker\": {\"colors\": [\"#FF0000\", \"#FFFF00\", \"#00EAFF\", \"#AA00FF\", \"#FF7F00\", \"#BFFF00\", \"#0095FF\", \"#FF00AA\", \"#000000\", \"#FFD400\", \"#6AFF00\", \"#0040FF\", \"#EDB9B9\", \"#B9D7ED\", \"#E7E9B9\", \"#DCB9ED\", \"#B9EDE0\", \"#8F2323\", \"#23628F\", \"#8F6A23\", \"#6B238F\", \"#4F8F23\", \"#CCCCCC\", \"#737373\"], \"line\": {\"color\": \"#000000\", \"width\": 2}}, \"showlegend\": true, \"name\": \"Concept\", \"insidetextfont\": {\"color\": \"white\"}}], {}, {\"showLink\": true, \"linkText\": \"Export to plot.ly\"})});</script>"
      ],
      "text/vnd.plotly.v1+html": [
       "<div id=\"8d070f7c-560a-409c-9ed1-b9c4f08025f8\" style=\"height: 525px; width: 100%;\" class=\"plotly-graph-div\"></div><script type=\"text/javascript\">require([\"plotly\"], function(Plotly) { window.PLOTLYENV=window.PLOTLYENV || {};window.PLOTLYENV.BASE_URL=\"https://plot.ly\";Plotly.newPlot(\"8d070f7c-560a-409c-9ed1-b9c4f08025f8\", [{\"type\": \"pie\", \"labels\": [\"Agree\", \"Assert\", \"Challenge\", \"Define\", \"Judge\", \"Query\", \"Retract\", \"Suggest\", \"not\", \"wlog\", \"stronger\", \"equivalent\", \"has_property\", \"case_split\", \"instance_of\", \"beautiful\", \"easy\", \"feasible\", \"plausible\", \"useful\", \"auxiliary\", \"goal\", \"strategy\", \"structural\"], \"values\": [1, 14, 5, 5, 3, 1, 1, 12, 4, 0, 1, 3, 0, 0, 0, 0, 0, 0, 1, 2, 3, 3, 8, 10], \"hoverinfo\": \"label+percent\", \"textinfo\": \"none\", \"textfont\": {\"size\": 20}, \"marker\": {\"colors\": [\"#FF0000\", \"#FFFF00\", \"#00EAFF\", \"#AA00FF\", \"#FF7F00\", \"#BFFF00\", \"#0095FF\", \"#FF00AA\", \"#000000\", \"#FFD400\", \"#6AFF00\", \"#0040FF\", \"#EDB9B9\", \"#B9D7ED\", \"#E7E9B9\", \"#DCB9ED\", \"#B9EDE0\", \"#8F2323\", \"#23628F\", \"#8F6A23\", \"#6B238F\", \"#4F8F23\", \"#CCCCCC\", \"#737373\"], \"line\": {\"color\": \"#000000\", \"width\": 2}}, \"showlegend\": true, \"name\": \"Concept\", \"insidetextfont\": {\"color\": \"white\"}}], {}, {\"showLink\": true, \"linkText\": \"Export to plot.ly\"})});</script>"
      ]
     },
     "metadata": {},
     "output_type": "display_data"
    }
   ],
   "source": [
    "values = [1, 14, 5, 5, 3, 1, 1, 12, 4, 0, 1, 3, 0, 0, 0, 0, 0, 0, 1, 2, 3, 3, 8, 10]\n",
    "\n",
    "trace = Pie(labels=labels, values=values,\n",
    "               hoverinfo='label+percent', textinfo='none', \n",
    "               textfont=dict(size=20),\n",
    "               marker=dict(colors=colors, \n",
    "                           line=dict(color='#000000', width=2)),\n",
    "               showlegend=True,\n",
    "               name=\"Concept\",\n",
    "               insidetextfont=dict(color=\"white\"))\n",
    "\n",
    "iplot([trace], filename='styled_pie_chart')"
   ]
  },
  {
   "cell_type": "code",
   "execution_count": 12,
   "metadata": {},
   "outputs": [
    {
     "data": {
      "application/vnd.plotly.v1+json": {
       "data": [
        {
         "hoverinfo": "label+percent",
         "insidetextfont": {
          "color": "white"
         },
         "labels": [
          "Agree",
          "Assert",
          "Challenge",
          "Define",
          "Judge",
          "Query",
          "Retract",
          "Suggest",
          "not",
          "wlog",
          "stronger",
          "equivalent",
          "has_property",
          "case_split",
          "instance_of",
          "beautiful",
          "easy",
          "feasible",
          "plausible",
          "useful",
          "auxiliary",
          "goal",
          "strategy",
          "structural"
         ],
         "marker": {
          "colors": [
           "#FF0000",
           "#FFFF00",
           "#00EAFF",
           "#AA00FF",
           "#FF7F00",
           "#BFFF00",
           "#0095FF",
           "#FF00AA",
           "#000000",
           "#FFD400",
           "#6AFF00",
           "#0040FF",
           "#EDB9B9",
           "#B9D7ED",
           "#E7E9B9",
           "#DCB9ED",
           "#B9EDE0",
           "#8F2323",
           "#23628F",
           "#8F6A23",
           "#6B238F",
           "#4F8F23",
           "#CCCCCC",
           "#737373"
          ],
          "line": {
           "color": "#000000",
           "width": 2
          }
         },
         "name": "Proof",
         "rotation": -45,
         "showlegend": true,
         "textfont": {
          "size": 20
         },
         "textinfo": "none",
         "type": "pie",
         "values": [
          4,
          34,
          5,
          2,
          2,
          0,
          0,
          5,
          0,
          1,
          4,
          4,
          1,
          1,
          1,
          0,
          0,
          0,
          0,
          2,
          1,
          2,
          3,
          15
         ]
        }
       ],
       "layout": {}
      },
      "text/html": [
       "<div id=\"269687b4-c548-411b-bb8d-d868ebc634cc\" style=\"height: 525px; width: 100%;\" class=\"plotly-graph-div\"></div><script type=\"text/javascript\">require([\"plotly\"], function(Plotly) { window.PLOTLYENV=window.PLOTLYENV || {};window.PLOTLYENV.BASE_URL=\"https://plot.ly\";Plotly.newPlot(\"269687b4-c548-411b-bb8d-d868ebc634cc\", [{\"type\": \"pie\", \"labels\": [\"Agree\", \"Assert\", \"Challenge\", \"Define\", \"Judge\", \"Query\", \"Retract\", \"Suggest\", \"not\", \"wlog\", \"stronger\", \"equivalent\", \"has_property\", \"case_split\", \"instance_of\", \"beautiful\", \"easy\", \"feasible\", \"plausible\", \"useful\", \"auxiliary\", \"goal\", \"strategy\", \"structural\"], \"values\": [4, 34, 5, 2, 2, 0, 0, 5, 0, 1, 4, 4, 1, 1, 1, 0, 0, 0, 0, 2, 1, 2, 3, 15], \"hoverinfo\": \"label+percent\", \"textinfo\": \"none\", \"textfont\": {\"size\": 20}, \"marker\": {\"colors\": [\"#FF0000\", \"#FFFF00\", \"#00EAFF\", \"#AA00FF\", \"#FF7F00\", \"#BFFF00\", \"#0095FF\", \"#FF00AA\", \"#000000\", \"#FFD400\", \"#6AFF00\", \"#0040FF\", \"#EDB9B9\", \"#B9D7ED\", \"#E7E9B9\", \"#DCB9ED\", \"#B9EDE0\", \"#8F2323\", \"#23628F\", \"#8F6A23\", \"#6B238F\", \"#4F8F23\", \"#CCCCCC\", \"#737373\"], \"line\": {\"color\": \"#000000\", \"width\": 2}}, \"showlegend\": true, \"name\": \"Proof\", \"insidetextfont\": {\"color\": \"white\"}, \"rotation\": -45}], {}, {\"showLink\": true, \"linkText\": \"Export to plot.ly\"})});</script>"
      ],
      "text/vnd.plotly.v1+html": [
       "<div id=\"269687b4-c548-411b-bb8d-d868ebc634cc\" style=\"height: 525px; width: 100%;\" class=\"plotly-graph-div\"></div><script type=\"text/javascript\">require([\"plotly\"], function(Plotly) { window.PLOTLYENV=window.PLOTLYENV || {};window.PLOTLYENV.BASE_URL=\"https://plot.ly\";Plotly.newPlot(\"269687b4-c548-411b-bb8d-d868ebc634cc\", [{\"type\": \"pie\", \"labels\": [\"Agree\", \"Assert\", \"Challenge\", \"Define\", \"Judge\", \"Query\", \"Retract\", \"Suggest\", \"not\", \"wlog\", \"stronger\", \"equivalent\", \"has_property\", \"case_split\", \"instance_of\", \"beautiful\", \"easy\", \"feasible\", \"plausible\", \"useful\", \"auxiliary\", \"goal\", \"strategy\", \"structural\"], \"values\": [4, 34, 5, 2, 2, 0, 0, 5, 0, 1, 4, 4, 1, 1, 1, 0, 0, 0, 0, 2, 1, 2, 3, 15], \"hoverinfo\": \"label+percent\", \"textinfo\": \"none\", \"textfont\": {\"size\": 20}, \"marker\": {\"colors\": [\"#FF0000\", \"#FFFF00\", \"#00EAFF\", \"#AA00FF\", \"#FF7F00\", \"#BFFF00\", \"#0095FF\", \"#FF00AA\", \"#000000\", \"#FFD400\", \"#6AFF00\", \"#0040FF\", \"#EDB9B9\", \"#B9D7ED\", \"#E7E9B9\", \"#DCB9ED\", \"#B9EDE0\", \"#8F2323\", \"#23628F\", \"#8F6A23\", \"#6B238F\", \"#4F8F23\", \"#CCCCCC\", \"#737373\"], \"line\": {\"color\": \"#000000\", \"width\": 2}}, \"showlegend\": true, \"name\": \"Proof\", \"insidetextfont\": {\"color\": \"white\"}, \"rotation\": -45}], {}, {\"showLink\": true, \"linkText\": \"Export to plot.ly\"})});</script>"
      ]
     },
     "metadata": {},
     "output_type": "display_data"
    }
   ],
   "source": [
    "values = [4, 34, 5, 2, 2, 0, 0, 5, 0, 1, 4, 4, 1, 1, 1, 0, 0, 0, 0, 2, 1, 2, 3, 15]\n",
    "\n",
    "trace = Pie(labels=labels, values=values,\n",
    "               hoverinfo='label+percent', textinfo='none', \n",
    "               textfont=dict(size=20),\n",
    "               marker=dict(colors=colors, \n",
    "                           line=dict(color='#000000', width=2)),\n",
    "               showlegend=True,\n",
    "               name=\"Proof\",\n",
    "               insidetextfont=dict(color=\"white\"),\n",
    "               rotation=-45)\n",
    "\n",
    "iplot([trace], filename='styled_pie_chart')"
   ]
  },
  {
   "cell_type": "code",
   "execution_count": 13,
   "metadata": {},
   "outputs": [
    {
     "data": {
      "application/vnd.plotly.v1+json": {
       "data": [
        {
         "hoverinfo": "label+percent",
         "insidetextfont": {
          "color": "white"
         },
         "labels": [
          "Agree",
          "Assert",
          "Challenge",
          "Define",
          "Judge",
          "Query",
          "Retract",
          "Suggest",
          "not",
          "wlog",
          "stronger",
          "equivalent",
          "has_property",
          "case_split",
          "instance_of",
          "beautiful",
          "easy",
          "feasible",
          "plausible",
          "useful",
          "auxiliary",
          "goal",
          "strategy",
          "structural"
         ],
         "marker": {
          "colors": [
           "#FF0000",
           "#FFFF00",
           "#00EAFF",
           "#AA00FF",
           "#FF7F00",
           "#BFFF00",
           "#0095FF",
           "#FF00AA",
           "#000000",
           "#FFD400",
           "#6AFF00",
           "#0040FF",
           "#EDB9B9",
           "#B9D7ED",
           "#E7E9B9",
           "#DCB9ED",
           "#B9EDE0",
           "#8F2323",
           "#23628F",
           "#8F6A23",
           "#6B238F",
           "#4F8F23",
           "#CCCCCC",
           "#737373"
          ],
          "line": {
           "color": "#000000",
           "width": 2
          }
         },
         "name": "Example",
         "scalegroup": "foo",
         "showlegend": true,
         "textfont": {
          "size": 20
         },
         "textinfo": "none",
         "type": "pie",
         "values": [
          1,
          14,
          15,
          0,
          4,
          2,
          1,
          1,
          3,
          0,
          3,
          1,
          0,
          0,
          0,
          1,
          3,
          0,
          0,
          0,
          0,
          1,
          0,
          8
         ]
        }
       ],
       "layout": {}
      },
      "text/html": [
       "<div id=\"63dbaa5f-d7ec-4bc0-9180-5e2beed646e7\" style=\"height: 525px; width: 100%;\" class=\"plotly-graph-div\"></div><script type=\"text/javascript\">require([\"plotly\"], function(Plotly) { window.PLOTLYENV=window.PLOTLYENV || {};window.PLOTLYENV.BASE_URL=\"https://plot.ly\";Plotly.newPlot(\"63dbaa5f-d7ec-4bc0-9180-5e2beed646e7\", [{\"type\": \"pie\", \"labels\": [\"Agree\", \"Assert\", \"Challenge\", \"Define\", \"Judge\", \"Query\", \"Retract\", \"Suggest\", \"not\", \"wlog\", \"stronger\", \"equivalent\", \"has_property\", \"case_split\", \"instance_of\", \"beautiful\", \"easy\", \"feasible\", \"plausible\", \"useful\", \"auxiliary\", \"goal\", \"strategy\", \"structural\"], \"values\": [1, 14, 15, 0, 4, 2, 1, 1, 3, 0, 3, 1, 0, 0, 0, 1, 3, 0, 0, 0, 0, 1, 0, 8], \"hoverinfo\": \"label+percent\", \"textinfo\": \"none\", \"textfont\": {\"size\": 20}, \"marker\": {\"colors\": [\"#FF0000\", \"#FFFF00\", \"#00EAFF\", \"#AA00FF\", \"#FF7F00\", \"#BFFF00\", \"#0095FF\", \"#FF00AA\", \"#000000\", \"#FFD400\", \"#6AFF00\", \"#0040FF\", \"#EDB9B9\", \"#B9D7ED\", \"#E7E9B9\", \"#DCB9ED\", \"#B9EDE0\", \"#8F2323\", \"#23628F\", \"#8F6A23\", \"#6B238F\", \"#4F8F23\", \"#CCCCCC\", \"#737373\"], \"line\": {\"color\": \"#000000\", \"width\": 2}}, \"showlegend\": true, \"name\": \"Example\", \"insidetextfont\": {\"color\": \"white\"}, \"scalegroup\": \"foo\"}], {}, {\"showLink\": true, \"linkText\": \"Export to plot.ly\"})});</script>"
      ],
      "text/vnd.plotly.v1+html": [
       "<div id=\"63dbaa5f-d7ec-4bc0-9180-5e2beed646e7\" style=\"height: 525px; width: 100%;\" class=\"plotly-graph-div\"></div><script type=\"text/javascript\">require([\"plotly\"], function(Plotly) { window.PLOTLYENV=window.PLOTLYENV || {};window.PLOTLYENV.BASE_URL=\"https://plot.ly\";Plotly.newPlot(\"63dbaa5f-d7ec-4bc0-9180-5e2beed646e7\", [{\"type\": \"pie\", \"labels\": [\"Agree\", \"Assert\", \"Challenge\", \"Define\", \"Judge\", \"Query\", \"Retract\", \"Suggest\", \"not\", \"wlog\", \"stronger\", \"equivalent\", \"has_property\", \"case_split\", \"instance_of\", \"beautiful\", \"easy\", \"feasible\", \"plausible\", \"useful\", \"auxiliary\", \"goal\", \"strategy\", \"structural\"], \"values\": [1, 14, 15, 0, 4, 2, 1, 1, 3, 0, 3, 1, 0, 0, 0, 1, 3, 0, 0, 0, 0, 1, 0, 8], \"hoverinfo\": \"label+percent\", \"textinfo\": \"none\", \"textfont\": {\"size\": 20}, \"marker\": {\"colors\": [\"#FF0000\", \"#FFFF00\", \"#00EAFF\", \"#AA00FF\", \"#FF7F00\", \"#BFFF00\", \"#0095FF\", \"#FF00AA\", \"#000000\", \"#FFD400\", \"#6AFF00\", \"#0040FF\", \"#EDB9B9\", \"#B9D7ED\", \"#E7E9B9\", \"#DCB9ED\", \"#B9EDE0\", \"#8F2323\", \"#23628F\", \"#8F6A23\", \"#6B238F\", \"#4F8F23\", \"#CCCCCC\", \"#737373\"], \"line\": {\"color\": \"#000000\", \"width\": 2}}, \"showlegend\": true, \"name\": \"Example\", \"insidetextfont\": {\"color\": \"white\"}, \"scalegroup\": \"foo\"}], {}, {\"showLink\": true, \"linkText\": \"Export to plot.ly\"})});</script>"
      ]
     },
     "metadata": {},
     "output_type": "display_data"
    }
   ],
   "source": [
    "values = [1, 14, 15, 0, 4, 2, 1, 1, 3, 0, 3, 1, 0, 0, 0, 1, 3, 0, 0, 0, 0, 1, 0, 8]\n",
    "\n",
    "trace = Pie(labels=labels, values=values,\n",
    "               hoverinfo='label+percent', textinfo='none', \n",
    "               textfont=dict(size=20),\n",
    "               marker=dict(colors=colors, \n",
    "                           line=dict(color='#000000', width=2)),\n",
    "               showlegend=True,\n",
    "               name=\"Example\",\n",
    "               insidetextfont=dict(color=\"white\"),\n",
    "               scalegroup=\"foo\")\n",
    "\n",
    "iplot([trace], filename='styled_pie_chart')"
   ]
  },
  {
   "cell_type": "code",
   "execution_count": 14,
   "metadata": {},
   "outputs": [
    {
     "data": {
      "application/vnd.plotly.v1+json": {
       "data": [
        {
         "hoverinfo": "label+percent",
         "insidetextfont": {
          "color": "white",
          "size": 20
         },
         "labels": [
          "Agree",
          "Assert",
          "Challenge",
          "Define",
          "Judge",
          "Query",
          "Retract",
          "Suggest",
          "not",
          "wlog",
          "stronger",
          "equivalent",
          "has_property",
          "case_split",
          "instance_of",
          "beautiful",
          "easy",
          "feasible",
          "plausible",
          "useful",
          "auxiliary",
          "goal",
          "strategy",
          "structural"
         ],
         "marker": {
          "colors": [
           "#FF0000",
           "#FFFF00",
           "#00EAFF",
           "#AA00FF",
           "#FF7F00",
           "#BFFF00",
           "#0095FF",
           "#FF00AA",
           "#000000",
           "#FFD400",
           "#6AFF00",
           "#0040FF",
           "#EDB9B9",
           "#B9D7ED",
           "#E7E9B9",
           "#DCB9ED",
           "#B9EDE0",
           "#8F2323",
           "#23628F",
           "#8F6A23",
           "#6B238F",
           "#4F8F23",
           "#CCCCCC",
           "#737373"
          ],
          "line": {
           "color": "#000000",
           "width": 2
          }
         },
         "name": "Other",
         "showlegend": true,
         "textfont": {
          "size": 20
         },
         "textinfo": "none",
         "type": "pie",
         "values": [
          9,
          6,
          7,
          0,
          0,
          4,
          5,
          1,
          3,
          1,
          5,
          1,
          1,
          1,
          1,
          0,
          1,
          0,
          0,
          2,
          0,
          0,
          2,
          2
         ]
        }
       ],
       "layout": {}
      },
      "text/html": [
       "<div id=\"61edf354-62bb-460d-8884-b04358d5e1b7\" style=\"height: 525px; width: 100%;\" class=\"plotly-graph-div\"></div><script type=\"text/javascript\">require([\"plotly\"], function(Plotly) { window.PLOTLYENV=window.PLOTLYENV || {};window.PLOTLYENV.BASE_URL=\"https://plot.ly\";Plotly.newPlot(\"61edf354-62bb-460d-8884-b04358d5e1b7\", [{\"type\": \"pie\", \"labels\": [\"Agree\", \"Assert\", \"Challenge\", \"Define\", \"Judge\", \"Query\", \"Retract\", \"Suggest\", \"not\", \"wlog\", \"stronger\", \"equivalent\", \"has_property\", \"case_split\", \"instance_of\", \"beautiful\", \"easy\", \"feasible\", \"plausible\", \"useful\", \"auxiliary\", \"goal\", \"strategy\", \"structural\"], \"values\": [9, 6, 7, 0, 0, 4, 5, 1, 3, 1, 5, 1, 1, 1, 1, 0, 1, 0, 0, 2, 0, 0, 2, 2], \"hoverinfo\": \"label+percent\", \"textinfo\": \"none\", \"textfont\": {\"size\": 20}, \"marker\": {\"colors\": [\"#FF0000\", \"#FFFF00\", \"#00EAFF\", \"#AA00FF\", \"#FF7F00\", \"#BFFF00\", \"#0095FF\", \"#FF00AA\", \"#000000\", \"#FFD400\", \"#6AFF00\", \"#0040FF\", \"#EDB9B9\", \"#B9D7ED\", \"#E7E9B9\", \"#DCB9ED\", \"#B9EDE0\", \"#8F2323\", \"#23628F\", \"#8F6A23\", \"#6B238F\", \"#4F8F23\", \"#CCCCCC\", \"#737373\"], \"line\": {\"color\": \"#000000\", \"width\": 2}}, \"showlegend\": true, \"name\": \"Other\", \"insidetextfont\": {\"color\": \"white\", \"size\": 20}}], {}, {\"showLink\": true, \"linkText\": \"Export to plot.ly\"})});</script>"
      ],
      "text/vnd.plotly.v1+html": [
       "<div id=\"61edf354-62bb-460d-8884-b04358d5e1b7\" style=\"height: 525px; width: 100%;\" class=\"plotly-graph-div\"></div><script type=\"text/javascript\">require([\"plotly\"], function(Plotly) { window.PLOTLYENV=window.PLOTLYENV || {};window.PLOTLYENV.BASE_URL=\"https://plot.ly\";Plotly.newPlot(\"61edf354-62bb-460d-8884-b04358d5e1b7\", [{\"type\": \"pie\", \"labels\": [\"Agree\", \"Assert\", \"Challenge\", \"Define\", \"Judge\", \"Query\", \"Retract\", \"Suggest\", \"not\", \"wlog\", \"stronger\", \"equivalent\", \"has_property\", \"case_split\", \"instance_of\", \"beautiful\", \"easy\", \"feasible\", \"plausible\", \"useful\", \"auxiliary\", \"goal\", \"strategy\", \"structural\"], \"values\": [9, 6, 7, 0, 0, 4, 5, 1, 3, 1, 5, 1, 1, 1, 1, 0, 1, 0, 0, 2, 0, 0, 2, 2], \"hoverinfo\": \"label+percent\", \"textinfo\": \"none\", \"textfont\": {\"size\": 20}, \"marker\": {\"colors\": [\"#FF0000\", \"#FFFF00\", \"#00EAFF\", \"#AA00FF\", \"#FF7F00\", \"#BFFF00\", \"#0095FF\", \"#FF00AA\", \"#000000\", \"#FFD400\", \"#6AFF00\", \"#0040FF\", \"#EDB9B9\", \"#B9D7ED\", \"#E7E9B9\", \"#DCB9ED\", \"#B9EDE0\", \"#8F2323\", \"#23628F\", \"#8F6A23\", \"#6B238F\", \"#4F8F23\", \"#CCCCCC\", \"#737373\"], \"line\": {\"color\": \"#000000\", \"width\": 2}}, \"showlegend\": true, \"name\": \"Other\", \"insidetextfont\": {\"color\": \"white\", \"size\": 20}}], {}, {\"showLink\": true, \"linkText\": \"Export to plot.ly\"})});</script>"
      ]
     },
     "metadata": {},
     "output_type": "display_data"
    }
   ],
   "source": [
    "values = [9, 6, 7, 0, 0, 4, 5, 1, 3, 1, 5, 1, 1, 1, 1, 0, 1, 0, 0, 2, 0, 0, 2, 2]\n",
    "\n",
    "trace = Pie(labels=labels, values=values,\n",
    "               hoverinfo='label+percent', textinfo='none', \n",
    "               textfont=dict(size=20),\n",
    "               marker=dict(colors=colors, \n",
    "                           line=dict(color='#000000', width=2)),\n",
    "               showlegend=True,\n",
    "               name=\"Other\",\n",
    "               insidetextfont=dict(color=\"white\",size=20),)\n",
    "\n",
    "iplot([trace], filename='styled_pie_chart')"
   ]
  },
  {
   "cell_type": "code",
   "execution_count": 8,
   "metadata": {},
   "outputs": [
    {
     "data": {
      "application/vnd.plotly.v1+json": {
       "data": [
        {
         "hoverinfo": "label+percent",
         "insidetextfont": {
          "color": "white"
         },
         "labels": [
          "Agree",
          "Assert",
          "Challenge",
          "Define",
          "Judge",
          "Query",
          "Retract",
          "Suggest",
          "not",
          "wlog",
          "stronger",
          "equivalent",
          "has_property",
          "case_split",
          "instance_of",
          "beautiful",
          "easy",
          "feasible",
          "plausible",
          "useful",
          "auxiliary",
          "goal",
          "strategy",
          "structural"
         ],
         "marker": {
          "colors": [
           "#FF0000",
           "#FFFF00",
           "#00EAFF",
           "#AA00FF",
           "#FF7F00",
           "#BFFF00",
           "#0095FF",
           "#FF00AA",
           "#000000",
           "#FFD400",
           "#6AFF00",
           "#0040FF",
           "#EDB9B9",
           "#B9D7ED",
           "#E7E9B9",
           "#DCB9ED",
           "#B9EDE0",
           "#8F2323",
           "#23628F",
           "#8F6A23",
           "#6B238F",
           "#4F8F23",
           "#CCCCCC",
           "#737373"
          ],
          "line": {
           "color": "#000000",
           "width": 2
          }
         },
         "name": "Concept",
         "showlegend": true,
         "textfont": {
          "size": 20
         },
         "textinfo": "value",
         "type": "pie",
         "values": [
          23,
          22,
          21,
          20,
          19,
          18,
          17,
          16,
          15,
          14,
          13,
          12,
          11,
          10,
          9,
          8,
          7,
          6,
          5,
          4,
          3,
          2,
          1,
          0
         ]
        }
       ],
       "layout": {}
      },
      "text/html": [
       "<div id=\"1dff2864-d22e-49ff-bcad-d5abccd2ad0b\" style=\"height: 525px; width: 100%;\" class=\"plotly-graph-div\"></div><script type=\"text/javascript\">require([\"plotly\"], function(Plotly) { window.PLOTLYENV=window.PLOTLYENV || {};window.PLOTLYENV.BASE_URL=\"https://plot.ly\";Plotly.newPlot(\"1dff2864-d22e-49ff-bcad-d5abccd2ad0b\", [{\"type\": \"pie\", \"labels\": [\"Agree\", \"Assert\", \"Challenge\", \"Define\", \"Judge\", \"Query\", \"Retract\", \"Suggest\", \"not\", \"wlog\", \"stronger\", \"equivalent\", \"has_property\", \"case_split\", \"instance_of\", \"beautiful\", \"easy\", \"feasible\", \"plausible\", \"useful\", \"auxiliary\", \"goal\", \"strategy\", \"structural\"], \"values\": [23, 22, 21, 20, 19, 18, 17, 16, 15, 14, 13, 12, 11, 10, 9, 8, 7, 6, 5, 4, 3, 2, 1, 0], \"hoverinfo\": \"label+percent\", \"textinfo\": \"value\", \"textfont\": {\"size\": 20}, \"marker\": {\"colors\": [\"#FF0000\", \"#FFFF00\", \"#00EAFF\", \"#AA00FF\", \"#FF7F00\", \"#BFFF00\", \"#0095FF\", \"#FF00AA\", \"#000000\", \"#FFD400\", \"#6AFF00\", \"#0040FF\", \"#EDB9B9\", \"#B9D7ED\", \"#E7E9B9\", \"#DCB9ED\", \"#B9EDE0\", \"#8F2323\", \"#23628F\", \"#8F6A23\", \"#6B238F\", \"#4F8F23\", \"#CCCCCC\", \"#737373\"], \"line\": {\"color\": \"#000000\", \"width\": 2}}, \"showlegend\": true, \"name\": \"Concept\", \"insidetextfont\": {\"color\": \"white\"}}], {}, {\"showLink\": true, \"linkText\": \"Export to plot.ly\"})});</script>"
      ],
      "text/vnd.plotly.v1+html": [
       "<div id=\"1dff2864-d22e-49ff-bcad-d5abccd2ad0b\" style=\"height: 525px; width: 100%;\" class=\"plotly-graph-div\"></div><script type=\"text/javascript\">require([\"plotly\"], function(Plotly) { window.PLOTLYENV=window.PLOTLYENV || {};window.PLOTLYENV.BASE_URL=\"https://plot.ly\";Plotly.newPlot(\"1dff2864-d22e-49ff-bcad-d5abccd2ad0b\", [{\"type\": \"pie\", \"labels\": [\"Agree\", \"Assert\", \"Challenge\", \"Define\", \"Judge\", \"Query\", \"Retract\", \"Suggest\", \"not\", \"wlog\", \"stronger\", \"equivalent\", \"has_property\", \"case_split\", \"instance_of\", \"beautiful\", \"easy\", \"feasible\", \"plausible\", \"useful\", \"auxiliary\", \"goal\", \"strategy\", \"structural\"], \"values\": [23, 22, 21, 20, 19, 18, 17, 16, 15, 14, 13, 12, 11, 10, 9, 8, 7, 6, 5, 4, 3, 2, 1, 0], \"hoverinfo\": \"label+percent\", \"textinfo\": \"value\", \"textfont\": {\"size\": 20}, \"marker\": {\"colors\": [\"#FF0000\", \"#FFFF00\", \"#00EAFF\", \"#AA00FF\", \"#FF7F00\", \"#BFFF00\", \"#0095FF\", \"#FF00AA\", \"#000000\", \"#FFD400\", \"#6AFF00\", \"#0040FF\", \"#EDB9B9\", \"#B9D7ED\", \"#E7E9B9\", \"#DCB9ED\", \"#B9EDE0\", \"#8F2323\", \"#23628F\", \"#8F6A23\", \"#6B238F\", \"#4F8F23\", \"#CCCCCC\", \"#737373\"], \"line\": {\"color\": \"#000000\", \"width\": 2}}, \"showlegend\": true, \"name\": \"Concept\", \"insidetextfont\": {\"color\": \"white\"}}], {}, {\"showLink\": true, \"linkText\": \"Export to plot.ly\"})});</script>"
      ]
     },
     "metadata": {},
     "output_type": "display_data"
    }
   ],
   "source": [
    "values = [23,22,21,20,19,18,17,16,15,14,13,12,11,10,9,8,7,6,5,4,3,2,1,0]\n",
    "\n",
    "trace = Pie(labels=labels, values=values,\n",
    "               hoverinfo='label+percent', textinfo='none',\n",
    "               textfont=dict(size=20),\n",
    "               marker=dict(colors=colors, \n",
    "                           line=dict(color='#000000', width=2)),\n",
    "               showlegend=True,\n",
    "               name=\"Concept\",\n",
    "               insidetextfont=dict(color=\"white\"))\n",
    "\n",
    "iplot([trace], filename='styled_pie_chart')"
   ]
  },
  {
   "cell_type": "code",
   "execution_count": null,
   "metadata": {
    "collapsed": true
   },
   "outputs": [],
   "source": []
  }
 ],
 "metadata": {
  "kernelspec": {
   "display_name": "Python 3",
   "language": "python",
   "name": "python3"
  },
  "language_info": {
   "codemirror_mode": {
    "name": "ipython",
    "version": 3
   },
   "file_extension": ".py",
   "mimetype": "text/x-python",
   "name": "python",
   "nbconvert_exporter": "python",
   "pygments_lexer": "ipython3",
   "version": "3.6.3"
  }
 },
 "nbformat": 4,
 "nbformat_minor": 2
}
